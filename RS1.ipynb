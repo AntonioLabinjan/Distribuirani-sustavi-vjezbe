{
  "cells": [
    {
      "cell_type": "code",
      "source": [
        "# skripta RS1\n",
        "print(\"Hello\")"
      ],
      "metadata": {
        "colab": {
          "base_uri": "https://localhost:8080/"
        },
        "id": "P7WSJGiKkb0z",
        "outputId": "acf15bca-f114-49b8-b5ee-7f548f563e55"
      },
      "execution_count": 1,
      "outputs": [
        {
          "output_type": "stream",
          "name": "stdout",
          "text": [
            "Hello\n"
          ]
        }
      ]
    },
    {
      "cell_type": "code",
      "source": [
        "x = \"1\"\n",
        "y = 1\n",
        "print(x,type(x))\n",
        "print(y,type(y))"
      ],
      "metadata": {
        "colab": {
          "base_uri": "https://localhost:8080/"
        },
        "id": "6vBzLHluk6sV",
        "outputId": "8ffaa3f1-ac3c-4a81-9cf0-cee927f29fac"
      },
      "execution_count": 3,
      "outputs": [
        {
          "output_type": "stream",
          "name": "stdout",
          "text": [
            "1 <class 'str'>\n",
            "1 <class 'int'>\n"
          ]
        }
      ]
    },
    {
      "cell_type": "code",
      "source": [
        "a = \"Moje\"\n",
        "b = \"ime\"\n",
        "c = \"ni\"\n",
        "d = \"Flavio\"\n",
        "\n",
        "print(a, b, c, d, sep=\"//\")"
      ],
      "metadata": {
        "colab": {
          "base_uri": "https://localhost:8080/"
        },
        "id": "avJ-ENInlPYR",
        "outputId": "04c77add-c6ff-45e1-eebf-04d73c50fb87"
      },
      "execution_count": 5,
      "outputs": [
        {
          "output_type": "stream",
          "name": "stdout",
          "text": [
            "Moje//ime//ni//Flavio\n"
          ]
        }
      ]
    },
    {
      "cell_type": "code",
      "source": [
        "a = 5\n",
        "b = 3\n",
        "\n",
        "print(a + b) # 8\n",
        "print(a - b) # 2\n",
        "print(a * b) # 15\n",
        "print(a / b) # 1.6666666666666667 (float)\n",
        "print(a // b) # 1 (int)\n",
        "print(a % b) # 2\n",
        "print(a ** b) # 125"
      ],
      "metadata": {
        "colab": {
          "base_uri": "https://localhost:8080/"
        },
        "id": "otvJFnr-lSdR",
        "outputId": "71e16fab-5937-4f09-d9d7-b92958d3a9bb"
      },
      "execution_count": 6,
      "outputs": [
        {
          "output_type": "stream",
          "name": "stdout",
          "text": [
            "8\n",
            "2\n",
            "15\n",
            "1.6666666666666667\n",
            "1\n",
            "2\n",
            "125\n"
          ]
        }
      ]
    },
    {
      "cell_type": "code",
      "source": [
        "float(31), float(1 < 2) # konverzija brojeva\n",
        "\n"
      ],
      "metadata": {
        "colab": {
          "base_uri": "https://localhost:8080/"
        },
        "id": "6fHhnI78lgol",
        "outputId": "10baba98-b68a-4170-e94f-6991bd9dcba1"
      },
      "execution_count": 10,
      "outputs": [
        {
          "output_type": "execute_result",
          "data": {
            "text/plain": [
              "(31.0, 1.0)"
            ]
          },
          "metadata": {},
          "execution_count": 10
        }
      ]
    },
    {
      "cell_type": "code",
      "source": [
        "print(1/0) # ZeroDivisionError: division by zero"
      ],
      "metadata": {
        "colab": {
          "base_uri": "https://localhost:8080/",
          "height": 141
        },
        "id": "VQrX-tkTlpWY",
        "outputId": "96216964-a6e9-41ae-9284-8f151bd7f31a"
      },
      "execution_count": 11,
      "outputs": [
        {
          "output_type": "error",
          "ename": "ZeroDivisionError",
          "evalue": "division by zero",
          "traceback": [
            "\u001b[0;31m---------------------------------------------------------------------------\u001b[0m",
            "\u001b[0;31mZeroDivisionError\u001b[0m                         Traceback (most recent call last)",
            "\u001b[0;32m/tmp/ipython-input-3111332488.py\u001b[0m in \u001b[0;36m<cell line: 0>\u001b[0;34m()\u001b[0m\n\u001b[0;32m----> 1\u001b[0;31m \u001b[0mprint\u001b[0m\u001b[0;34m(\u001b[0m\u001b[0;36m1\u001b[0m\u001b[0;34m/\u001b[0m\u001b[0;36m0\u001b[0m\u001b[0;34m)\u001b[0m \u001b[0;31m# ZeroDivisionError: division by zero\u001b[0m\u001b[0;34m\u001b[0m\u001b[0;34m\u001b[0m\u001b[0m\n\u001b[0m",
            "\u001b[0;31mZeroDivisionError\u001b[0m: division by zero"
          ]
        }
      ]
    },
    {
      "cell_type": "code",
      "source": [
        "print(abs(-5)) # 5 (apsolutna vrijednost)\n",
        "print(round(3.14159, 2)) # 3.14 (zaokruživanje na n decimala)\n",
        "print(max(1, 2, 3, 4, 5)) # 5 (maksimalna vrijednost)\n",
        "print(min(1, 2, 3, 4, 5)) # 1 (minimalna vrijednost)"
      ],
      "metadata": {
        "colab": {
          "base_uri": "https://localhost:8080/"
        },
        "id": "_6X3VwWDlrXf",
        "outputId": "47174b05-41b0-4a3e-b955-a2a0781a7589"
      },
      "execution_count": 12,
      "outputs": [
        {
          "output_type": "stream",
          "name": "stdout",
          "text": [
            "5\n",
            "3.14\n",
            "5\n",
            "1\n"
          ]
        }
      ]
    },
    {
      "cell_type": "code",
      "source": [
        "import math\n",
        "\n",
        "print(math.sqrt(16)) # 4.0 (kvadratni korijen)\n",
        "print(math.pow(2, 3)) # 8.0 (potenciranje))\n",
        "\n",
        "print(math.exp(1)) # 2.718281828459045 (e^x)\n",
        "print(math.log(10)) # 2.302585092994046 (ln(x))\n",
        "\n",
        "print(math.trunc(3.14)) # 3 (odbacuje decimalni dio)\n",
        "print(math.ceil(3.14)) # 4 (zaokružuje prema gore)\n",
        "print(math.floor(3.14)) # 3 (zaokružuje prema dolje)"
      ],
      "metadata": {
        "colab": {
          "base_uri": "https://localhost:8080/"
        },
        "id": "GeL19DZ6luZs",
        "outputId": "d20aad01-f4c7-4efa-b19a-5ddc9b61e39f"
      },
      "execution_count": 13,
      "outputs": [
        {
          "output_type": "stream",
          "name": "stdout",
          "text": [
            "4.0\n",
            "8.0\n",
            "2.718281828459045\n",
            "2.302585092994046\n",
            "3\n",
            "4\n",
            "3\n"
          ]
        }
      ]
    },
    {
      "cell_type": "code",
      "source": [
        "import math\n",
        "\n",
        "print(math.isfinite(1.0)) # True (je li broj konačan)\n",
        "print(math.isinf(1.0)) # False (je li broj beskonačan tj. neizmjerno velik)\n",
        "\n",
        "print(math.isnan(1.0)) # False (je li broj NaN, tj. Not a Number)"
      ],
      "metadata": {
        "colab": {
          "base_uri": "https://localhost:8080/"
        },
        "id": "_C8b3RxBlwLR",
        "outputId": "38a895d7-aaae-41cf-baa7-5aff0cb680fa"
      },
      "execution_count": 14,
      "outputs": [
        {
          "output_type": "stream",
          "name": "stdout",
          "text": [
            "True\n",
            "False\n",
            "False\n"
          ]
        }
      ]
    },
    {
      "cell_type": "code",
      "source": [
        "a = 5\n",
        "b = 10\n",
        "\n",
        "print(a == b) # False\n",
        "print(a != b) # True\n",
        "print(a > b) # False\n",
        "print(a < b) # True\n",
        "print(a >= b) # False\n",
        "print(a <= b) # True"
      ],
      "metadata": {
        "colab": {
          "base_uri": "https://localhost:8080/"
        },
        "id": "nKS9Fe91lyTi",
        "outputId": "e1af60a5-6e09-4f62-b0fc-f768dc8a6299"
      },
      "execution_count": 15,
      "outputs": [
        {
          "output_type": "stream",
          "name": "stdout",
          "text": [
            "False\n",
            "True\n",
            "False\n",
            "True\n",
            "False\n",
            "True\n"
          ]
        }
      ]
    },
    {
      "cell_type": "code",
      "source": [
        "print(bool(0)) # False (0 se tumači kao False)\n",
        "print(bool(1)) # True (svi brojevi osim 0 se tumače kao True)\n",
        "print(bool(-1)) # True (pa i negativni brojevi)\n",
        "\n",
        "print(bool(\"\")) # False (prazan string se tumači kao False)\n",
        "print(bool(\"cvrčak\")) # True (svi stringovi osim praznog se tumače kao True)\n",
        "print(bool(\" \")) # True (čak i prazan string s razmakom se tumači kao True)"
      ],
      "metadata": {
        "colab": {
          "base_uri": "https://localhost:8080/"
        },
        "id": "QrgDs5Gzl5zt",
        "outputId": "ca0ba49d-d4ee-4756-8ee8-c4832d0118a7"
      },
      "execution_count": 16,
      "outputs": [
        {
          "output_type": "stream",
          "name": "stdout",
          "text": [
            "False\n",
            "True\n",
            "True\n",
            "False\n",
            "True\n",
            "True\n"
          ]
        }
      ]
    },
    {
      "cell_type": "code",
      "source": [
        "print(4 == 2*2 == 2**2) # True"
      ],
      "metadata": {
        "colab": {
          "base_uri": "https://localhost:8080/"
        },
        "id": "uxmf1L3Kl7Lx",
        "outputId": "920dc6ab-cd87-49be-8897-fe4d6236e2f4"
      },
      "execution_count": 17,
      "outputs": [
        {
          "output_type": "stream",
          "name": "stdout",
          "text": [
            "True\n"
          ]
        }
      ]
    },
    {
      "cell_type": "code",
      "source": [
        "False and x # always False\n",
        "\n",
        "True or x # always True"
      ],
      "metadata": {
        "colab": {
          "base_uri": "https://localhost:8080/"
        },
        "id": "ujIy0pHumAcc",
        "outputId": "2a99434b-d973-402e-f961-e517b27a6736"
      },
      "execution_count": 19,
      "outputs": [
        {
          "output_type": "execute_result",
          "data": {
            "text/plain": [
              "True"
            ]
          },
          "metadata": {},
          "execution_count": 19
        }
      ]
    },
    {
      "cell_type": "code",
      "source": [
        "print(not True) # False\n",
        "\n",
        "print(5 and 3) # 3 - jer je 5 True, a 3 je zadnji argument\n",
        "\n",
        "print(0 and 3) # 0 - jer je 0 False, a 3 se neće ni provjeravati\n",
        "\n",
        "print(5 or 3) # 5 - jer je 5 True, a 3 se neće ni provjeravati\n",
        "\n",
        "print(0 or 3) # 3 - jer je 0 False, a 3 je zadnji argument"
      ],
      "metadata": {
        "colab": {
          "base_uri": "https://localhost:8080/"
        },
        "id": "PvQ5rPUfmNas",
        "outputId": "cec69f7c-ad30-49cb-ea94-8072f6022096"
      },
      "execution_count": 20,
      "outputs": [
        {
          "output_type": "stream",
          "name": "stdout",
          "text": [
            "False\n",
            "3\n",
            "0\n",
            "5\n",
            "3\n"
          ]
        }
      ]
    },
    {
      "cell_type": "code",
      "source": [
        "print(5 and 'koza')"
      ],
      "metadata": {
        "colab": {
          "base_uri": "https://localhost:8080/"
        },
        "id": "KWFaIaEtmGMj",
        "outputId": "1a23a1f0-0272-4aae-f989-0517f899866e"
      },
      "execution_count": 21,
      "outputs": [
        {
          "output_type": "stream",
          "name": "stdout",
          "text": [
            "koza\n"
          ]
        }
      ]
    },
    {
      "cell_type": "code",
      "source": [
        "print(True + True) # 2\n",
        "\n",
        "print(False + False) # 0\n",
        "\n",
        "print (True + 1) # 2\n",
        "\n",
        "print (False * 3) # 0"
      ],
      "metadata": {
        "colab": {
          "base_uri": "https://localhost:8080/"
        },
        "id": "in9X5OlGmX_e",
        "outputId": "16909471-bc98-4f41-ea8d-f53512a8c730"
      },
      "execution_count": 22,
      "outputs": [
        {
          "output_type": "stream",
          "name": "stdout",
          "text": [
            "2\n",
            "0\n",
            "2\n",
            "0\n"
          ]
        }
      ]
    },
    {
      "cell_type": "code",
      "source": [
        "a = [1, 2, 3]\n",
        "b = [1, 2, 3]\n",
        "\n",
        "print(a is b) # False (memorijske lokacije su različite i liste su promjenjive)\n",
        "\n",
        "print (a == b) # True (vrijednosti su jednake)"
      ],
      "metadata": {
        "colab": {
          "base_uri": "https://localhost:8080/"
        },
        "id": "765yrRVnmcl_",
        "outputId": "f602751a-f17b-4613-8190-9bf8eec3769d"
      },
      "execution_count": 23,
      "outputs": [
        {
          "output_type": "stream",
          "name": "stdout",
          "text": [
            "False\n",
            "True\n"
          ]
        }
      ]
    },
    {
      "cell_type": "code",
      "source": [
        "a = [1, 2, 3]\n",
        "b = a\n",
        "\n",
        "print(a is b) # ?\n",
        "print(a == b) # ?\n",
        "\n",
        "# True jer je b doslovno a"
      ],
      "metadata": {
        "colab": {
          "base_uri": "https://localhost:8080/"
        },
        "id": "7qU5fh9fmiLF",
        "outputId": "7c3011e0-4de3-4127-8eeb-201d9fab07ce"
      },
      "execution_count": 24,
      "outputs": [
        {
          "output_type": "stream",
          "name": "stdout",
          "text": [
            "True\n",
            "True\n"
          ]
        }
      ]
    },
    {
      "cell_type": "code",
      "source": [
        "a = 10\n",
        "b = 10\n",
        "\n",
        "print(a is b) # ?\n",
        "print(a == b) # ?\n",
        "\n",
        "# True jer je ista vrijednost"
      ],
      "metadata": {
        "colab": {
          "base_uri": "https://localhost:8080/"
        },
        "id": "wctUtvA7mpsS",
        "outputId": "2f88c100-3bb2-4709-ad67-1fff4ff293d0"
      },
      "execution_count": 25,
      "outputs": [
        {
          "output_type": "stream",
          "name": "stdout",
          "text": [
            "True\n",
            "True\n"
          ]
        }
      ]
    },
    {
      "cell_type": "code",
      "source": [
        "a = 10\n",
        "b = 20\n",
        "print(a is not b) # True\n",
        "\n",
        "str1 = \"hello\"\n",
        "str2 = \"hello\"\n",
        "\n",
        "print(str1 is not str2) # Nisu na istoj memorijskoj lokaciji, ali Python optimizira na jednak način kao i manje brojeve, dakle False"
      ],
      "metadata": {
        "colab": {
          "base_uri": "https://localhost:8080/"
        },
        "id": "UWSq8nWwmwwE",
        "outputId": "c0ea5324-11d7-437b-c79b-e49328743519"
      },
      "execution_count": 26,
      "outputs": [
        {
          "output_type": "stream",
          "name": "stdout",
          "text": [
            "True\n",
            "False\n"
          ]
        }
      ]
    },
    {
      "cell_type": "code",
      "source": [
        "a = [1, 2, 3, 4, 5]\n",
        "\n",
        "print(1 in a) # True\n",
        "print(6 in a) # False\n",
        "print(1 not in a) # False\n",
        "print(6 not in a) # True"
      ],
      "metadata": {
        "colab": {
          "base_uri": "https://localhost:8080/"
        },
        "id": "QBW9pjRKmzVo",
        "outputId": "551a9b9a-8ace-4332-8b1a-b08235d40e90"
      },
      "execution_count": 27,
      "outputs": [
        {
          "output_type": "stream",
          "name": "stdout",
          "text": [
            "True\n",
            "False\n",
            "False\n",
            "True\n"
          ]
        }
      ]
    },
    {
      "cell_type": "code",
      "source": [
        "iks = 'x'\n",
        "print (iks in 'cvrčak') # False\n",
        "\n",
        "samoglasnici = 'aeiou'\n",
        "\n",
        "print('a' in samoglasnici) # True\n",
        "print('b' in samoglasnici) # False"
      ],
      "metadata": {
        "colab": {
          "base_uri": "https://localhost:8080/"
        },
        "id": "vxyj0XDVm_A-",
        "outputId": "49444758-00bc-46bb-fb71-9f4bb77cafac"
      },
      "execution_count": 28,
      "outputs": [
        {
          "output_type": "stream",
          "name": "stdout",
          "text": [
            "False\n",
            "True\n",
            "False\n"
          ]
        }
      ]
    },
    {
      "cell_type": "code",
      "source": [
        "stabla = ['hrast', 'bukva', 'javor', 'bor']\n",
        "\n",
        "print('bukva' in stabla) # True\n",
        "\n",
        "print('jela' not in stabla) # True"
      ],
      "metadata": {
        "colab": {
          "base_uri": "https://localhost:8080/"
        },
        "id": "YzTAobGenD9y",
        "outputId": "2504ea96-5efa-4f91-f71a-85dbb2b98089"
      },
      "execution_count": 29,
      "outputs": [
        {
          "output_type": "stream",
          "name": "stdout",
          "text": [
            "True\n",
            "True\n"
          ]
        }
      ]
    },
    {
      "cell_type": "code",
      "source": [
        "a = 5\n",
        "\n",
        "if a % 2 == 0:\n",
        "  print(\"Broj je paran\")\n",
        "else:\n",
        "  print(\"Broj je neparan\")"
      ],
      "metadata": {
        "colab": {
          "base_uri": "https://localhost:8080/"
        },
        "id": "elTOjsShnHMc",
        "outputId": "42a2d463-a1ce-4c2b-a889-1a31a6380930"
      },
      "execution_count": 30,
      "outputs": [
        {
          "output_type": "stream",
          "name": "stdout",
          "text": [
            "Broj je neparan\n"
          ]
        }
      ]
    },
    {
      "cell_type": "code",
      "source": [
        "a = 5\n",
        "\n",
        "if a % 2 == 0:\n",
        "  print(\"Broj je paran\")\n",
        "elif a % 2 == 1:\n",
        "  print(\"Broj je neparan\")\n",
        "else:\n",
        "  print(\"Broj nije ni paran ni neparan\")"
      ],
      "metadata": {
        "colab": {
          "base_uri": "https://localhost:8080/"
        },
        "id": "dRAOECe3nQjm",
        "outputId": "f405ca31-266f-4c84-fc9b-eaba0279181d"
      },
      "execution_count": 31,
      "outputs": [
        {
          "output_type": "stream",
          "name": "stdout",
          "text": [
            "Broj je neparan\n"
          ]
        }
      ]
    },
    {
      "cell_type": "code",
      "source": [
        "a = input(\"Unesite broj: \")\n",
        "\n",
        "if int(a) % 2 == 0:\n",
        "  print(\"Broj je paran\")\n",
        "elif int(a) % 2 == 1:\n",
        "  print(\"Broj je neparan\")\n",
        "else:\n",
        "  print(\"Broj nije ni paran ni neparan\")"
      ],
      "metadata": {
        "colab": {
          "base_uri": "https://localhost:8080/"
        },
        "id": "rtpDesNEnTWz",
        "outputId": "7ceb5165-119a-4169-c527-f88a5df306da"
      },
      "execution_count": 36,
      "outputs": [
        {
          "output_type": "stream",
          "name": "stdout",
          "text": [
            "Unesite broj: 3\n",
            "Broj je neparan\n"
          ]
        }
      ]
    },
    {
      "cell_type": "code",
      "source": [
        "tajni_broj = 42\n",
        "broj = int(input(\"Pogodi broj! \"))\n",
        "\n",
        "if tajni_broj == broj:\n",
        "  print(\"Bravo, pogodio si!\")\n",
        "else:\n",
        "  if broj > tajni_broj:\n",
        "    print(\"Manji je od tog broja!\")\n",
        "  else:\n",
        "    print(\"Veći je od tog broja!\")\n",
        "print(\"Pokreni program ponovo za sljedeći pokušaj!\")"
      ],
      "metadata": {
        "colab": {
          "base_uri": "https://localhost:8080/"
        },
        "id": "Xk2IKj2WnmI7",
        "outputId": "caac4757-f217-4ed6-cc1e-2559fc4d5562"
      },
      "execution_count": 38,
      "outputs": [
        {
          "output_type": "stream",
          "name": "stdout",
          "text": [
            "Pogodi broj! 42\n",
            "Bravo, pogodio si!\n",
            "Pokreni program ponovo za sljedeći pokušaj!\n"
          ]
        }
      ]
    },
    {
      "cell_type": "code",
      "source": [
        "# Zadatak 1\n",
        "broj1 = int(input(\"Unesi prvi broj: \"))\n",
        "broj2 = int(input(\"Unesi drugi broj: \"))\n",
        "operator = input(\"Unesi operator: \")\n",
        "\n",
        "if operator == \"+\":\n",
        "  print(broj1 + broj2)\n",
        "elif operator == \"-\":\n",
        "  print(broj1 - broj2)\n",
        "elif operator == \"*\":\n",
        "  print(broj1 * broj2)\n",
        "elif operator == \"/\":\n",
        "  print(broj1 / broj2)\n",
        "else:\n",
        "  print(\"Pogrešan operator\")"
      ],
      "metadata": {
        "colab": {
          "base_uri": "https://localhost:8080/"
        },
        "id": "QO62uca4nun4",
        "outputId": "851c04cd-8bb4-4a15-c3e5-1a59b2008d60"
      },
      "execution_count": 39,
      "outputs": [
        {
          "output_type": "stream",
          "name": "stdout",
          "text": [
            "Unesi prvi broj: 44\n",
            "Unesi drugi broj: 22\n",
            "Unesi operator: /\n",
            "2.0\n"
          ]
        }
      ]
    },
    {
      "cell_type": "code",
      "source": [
        "godina = int(input(\"Unesi godinu: \"))\n",
        "if godina % 4 == 0 or godina % 100 == 0 or godina % 400 == 0:\n",
        "  print(\"Godina je prijestupna\")\n",
        "else:\n",
        "  print(\"Godina nije prijestupna\")\n",
        ""
      ],
      "metadata": {
        "colab": {
          "base_uri": "https://localhost:8080/"
        },
        "id": "saPjRO2dn-4d",
        "outputId": "c8998beb-02be-48a7-fdb0-0fa6f9d84360"
      },
      "execution_count": 41,
      "outputs": [
        {
          "output_type": "stream",
          "name": "stdout",
          "text": [
            "Unesi godinu: 20220\n",
            "Godina je prestupna\n"
          ]
        }
      ]
    },
    {
      "cell_type": "code",
      "source": [
        "# inicijaliziramo vrijednost broja koji ćemo kvadrirati\n",
        "brojač = 1\n",
        "\n",
        "# petlja se nastavlja sve dok je brojač manji od 11\n",
        "while brojač < 11:\n",
        "  print(brojač ** 2) # ispisujemo kvadrat broja\n",
        "  brojač += 1 # povećavamo brojač za 1\n",
        "print(\"Gotovo!\")"
      ],
      "metadata": {
        "colab": {
          "base_uri": "https://localhost:8080/"
        },
        "id": "PpS9QIw1ofEa",
        "outputId": "43c67f7d-c0dc-42d8-b0ed-5c81818600cc"
      },
      "execution_count": 42,
      "outputs": [
        {
          "output_type": "stream",
          "name": "stdout",
          "text": [
            "1\n",
            "4\n",
            "9\n",
            "16\n",
            "25\n",
            "36\n",
            "49\n",
            "64\n",
            "81\n",
            "100\n",
            "Gotovo!\n"
          ]
        }
      ]
    },
    {
      "cell_type": "code",
      "source": [
        "# infinite loop... 1**2 je vajka 1\n",
        "brojač = 1\n",
        "\n",
        "while brojač <= 10:\n",
        "  print(brojač ** 2)"
      ],
      "metadata": {
        "id": "QkjFakUtonMy"
      },
      "execution_count": null,
      "outputs": []
    },
    {
      "cell_type": "code",
      "source": [
        "import random\n",
        "\n",
        "tajni_broj = random.randint(1, 100)\n",
        "broj_pokusaja = 0\n",
        "pogodak = False\n",
        "\n",
        "while not pogodak:\n",
        "    broj = int(input(\"Pogodi broj! \"))\n",
        "    broj_pokusaja += 1\n",
        "\n",
        "    if broj == tajni_broj:\n",
        "        print(f\"Bravo, pogodio si nakon {broj_pokusaja} pokušaja!\")\n",
        "        pogodak = True\n",
        "    elif broj > tajni_broj:\n",
        "        print(\"Manji je od tog broja!\")\n",
        "    else:\n",
        "        print(\"Veći je od tog broja!\")\n",
        "\n",
        "print(\"Kraj igre! Pokreni program ponovo ako želiš igrati opet!\")\n"
      ],
      "metadata": {
        "colab": {
          "base_uri": "https://localhost:8080/"
        },
        "id": "Pje1Eo1iozBL",
        "outputId": "453f531c-5b0c-4c70-bf11-4c395eb13159"
      },
      "execution_count": 3,
      "outputs": [
        {
          "output_type": "stream",
          "name": "stdout",
          "text": [
            "Pogodi broj! 50\n",
            "Manji je od tog broja!\n",
            "Pogodi broj! 25\n",
            "Veći je od tog broja!\n",
            "Pogodi broj! 37\n",
            "Manji je od tog broja!\n",
            "Pogodi broj! 30\n",
            "Manji je od tog broja!\n",
            "Pogodi broj! 27\n",
            "Bravo, pogodio si nakon 5 pokušaja!\n",
            "Kraj igre! Pokreni program ponovo ako želiš igrati opet!\n"
          ]
        }
      ]
    },
    {
      "cell_type": "code",
      "source": [
        "for i in range(1, 11):\n",
        "  print(i) # ispisuje brojeve od 1 do 10\n",
        "\n",
        "for i in range(10):\n",
        "  print(i) # ispisuje brojeve od 0 do 9"
      ],
      "metadata": {
        "colab": {
          "base_uri": "https://localhost:8080/"
        },
        "id": "UbcowD6Hp265",
        "outputId": "d2c4ba80-716c-4b0c-f3a0-aba358979932"
      },
      "execution_count": 4,
      "outputs": [
        {
          "output_type": "stream",
          "name": "stdout",
          "text": [
            "1\n",
            "2\n",
            "3\n",
            "4\n",
            "5\n",
            "6\n",
            "7\n",
            "8\n",
            "9\n",
            "10\n",
            "0\n",
            "1\n",
            "2\n",
            "3\n",
            "4\n",
            "5\n",
            "6\n",
            "7\n",
            "8\n",
            "9\n"
          ]
        }
      ]
    },
    {
      "cell_type": "code",
      "source": [
        "for x in range(1, 11):\n",
        "  print(x ** 2) # 1 4 9 16 25 36 49 64 81 100"
      ],
      "metadata": {
        "colab": {
          "base_uri": "https://localhost:8080/"
        },
        "id": "FigJUVdgp7YQ",
        "outputId": "9c29257c-8ce1-4566-f1b8-52237b77663d"
      },
      "execution_count": 5,
      "outputs": [
        {
          "output_type": "stream",
          "name": "stdout",
          "text": [
            "1\n",
            "4\n",
            "9\n",
            "16\n",
            "25\n",
            "36\n",
            "49\n",
            "64\n",
            "81\n",
            "100\n"
          ]
        }
      ]
    },
    {
      "cell_type": "code",
      "source": [
        "for slovo in \"cvrčak\":\n",
        "  print(slovo) # c v r č a k"
      ],
      "metadata": {
        "colab": {
          "base_uri": "https://localhost:8080/"
        },
        "id": "PRY429F-p9Hz",
        "outputId": "bf052c38-bf35-40ba-ab91-b1e706f926c6"
      },
      "execution_count": 6,
      "outputs": [
        {
          "output_type": "stream",
          "name": "stdout",
          "text": [
            "c\n",
            "v\n",
            "r\n",
            "č\n",
            "a\n",
            "k\n"
          ]
        }
      ]
    },
    {
      "cell_type": "code",
      "source": [
        "for i in range(1, 10, 2):\n",
        "  print(i ** 2) # 1 9 25 49 81"
      ],
      "metadata": {
        "colab": {
          "base_uri": "https://localhost:8080/"
        },
        "id": "4YwTu2Fcp_ZH",
        "outputId": "ac34719c-a35b-4f98-ac50-13e8072ecf6b"
      },
      "execution_count": 7,
      "outputs": [
        {
          "output_type": "stream",
          "name": "stdout",
          "text": [
            "1\n",
            "9\n",
            "25\n",
            "49\n",
            "81\n"
          ]
        }
      ]
    },
    {
      "cell_type": "code",
      "source": [
        "for redak in range(1, 11):\n",
        "  ispisRetka = \"\"\n",
        "  for stupac in range(1, 11):\n",
        "    umnozak = redak * stupac\n",
        "    ispisRetka += f\"{umnozak:4}\"\n",
        "  print(ispisRetka)"
      ],
      "metadata": {
        "colab": {
          "base_uri": "https://localhost:8080/"
        },
        "id": "BiIaHbT-qBLM",
        "outputId": "25059373-d128-4a70-cb1f-a2306e89e167"
      },
      "execution_count": 8,
      "outputs": [
        {
          "output_type": "stream",
          "name": "stdout",
          "text": [
            "   1   2   3   4   5   6   7   8   9  10\n",
            "   2   4   6   8  10  12  14  16  18  20\n",
            "   3   6   9  12  15  18  21  24  27  30\n",
            "   4   8  12  16  20  24  28  32  36  40\n",
            "   5  10  15  20  25  30  35  40  45  50\n",
            "   6  12  18  24  30  36  42  48  54  60\n",
            "   7  14  21  28  35  42  49  56  63  70\n",
            "   8  16  24  32  40  48  56  64  72  80\n",
            "   9  18  27  36  45  54  63  72  81  90\n",
            "  10  20  30  40  50  60  70  80  90 100\n"
          ]
        }
      ]
    },
    {
      "cell_type": "code",
      "source": [
        "for i in range(1, 11):\n",
        "  print(f\"Broj: {i}\")"
      ],
      "metadata": {
        "colab": {
          "base_uri": "https://localhost:8080/"
        },
        "id": "JB7Ks6jjqEfm",
        "outputId": "a3ec3495-9a4f-4a17-d9a7-79d5d1431726"
      },
      "execution_count": 9,
      "outputs": [
        {
          "output_type": "stream",
          "name": "stdout",
          "text": [
            "Broj: 1\n",
            "Broj: 2\n",
            "Broj: 3\n",
            "Broj: 4\n",
            "Broj: 5\n",
            "Broj: 6\n",
            "Broj: 7\n",
            "Broj: 8\n",
            "Broj: 9\n",
            "Broj: 10\n"
          ]
        }
      ]
    },
    {
      "cell_type": "code",
      "source": [
        "broj = int(input(\"Unesi broj: \"))\n",
        "\n",
        "faktorijel = 1\n",
        "for i in range(1, broj + 1):\n",
        "    faktorijel *= i\n",
        "\n",
        "print(f\"Faktorijel od {broj} je {faktorijel}\")\n"
      ],
      "metadata": {
        "colab": {
          "base_uri": "https://localhost:8080/"
        },
        "id": "u2HOiTMaqY7D",
        "outputId": "f60f471e-506a-4510-f4fe-c733ffcee528"
      },
      "execution_count": 10,
      "outputs": [
        {
          "output_type": "stream",
          "name": "stdout",
          "text": [
            "Unesi broj: 55\n",
            "Faktorijel od 55 je 12696403353658275925965100847566516959580321051449436762275840000000000000\n"
          ]
        }
      ]
    },
    {
      "cell_type": "code",
      "source": [
        "broj = int(input(\"Unesi broj: \"))\n",
        "\n",
        "faktorijel = 1\n",
        "i = 1\n",
        "while i <= broj:\n",
        "    faktorijel *= i\n",
        "    i += 1\n",
        "\n",
        "print(f\"Faktorijel od {broj} je {faktorijel}\")\n"
      ],
      "metadata": {
        "colab": {
          "base_uri": "https://localhost:8080/"
        },
        "id": "fRreA8HlqcRN",
        "outputId": "6598f78a-a55d-4d22-8a7f-b9d8a5b84725"
      },
      "execution_count": 11,
      "outputs": [
        {
          "output_type": "stream",
          "name": "stdout",
          "text": [
            "Unesi broj: 66\n",
            "Faktorijel od 66 je 544344939077443064003729240247842752644293064388798874532860126869671081148416000000000000000\n"
          ]
        }
      ]
    },
    {
      "cell_type": "code",
      "source": [
        "tuple = (1, 2, 3, 4, 5)\n",
        "print(tuple) # (1, 2, 3, 4, 5)\n",
        "\n",
        "tuple2 = (1, \"cvrčak\", 3.14, True)\n",
        "print(tuple2) # (1, 'cvrčak', 3.14, True)"
      ],
      "metadata": {
        "colab": {
          "base_uri": "https://localhost:8080/"
        },
        "id": "cs4xrFcgqies",
        "outputId": "03f12f4a-e629-44e9-cc91-d948935f401b"
      },
      "execution_count": 12,
      "outputs": [
        {
          "output_type": "stream",
          "name": "stdout",
          "text": [
            "(1, 2, 3, 4, 5)\n",
            "(1, 'cvrčak', 3.14, True)\n"
          ]
        }
      ]
    },
    {
      "cell_type": "code",
      "source": [
        "sastojci = (\"jaja\", \"mlijeko\", \"brašno\", \"šećer\", \"sol\")\n",
        "\n",
        "print(sastojci[0]) # jaja\n",
        "print(sastojci[1]) # mlijeko\n",
        "print(sastojci[-1]) # sol\n",
        "\n",
        "sastojci[0] = \"kvasac\" # TypeError: 'tuple' object does not support item assignment - n-torke su nepromjenjive"
      ],
      "metadata": {
        "colab": {
          "base_uri": "https://localhost:8080/",
          "height": 228
        },
        "id": "yF9um1hIqqv8",
        "outputId": "69b46c06-7756-41a4-978a-3011e64c7305"
      },
      "execution_count": 13,
      "outputs": [
        {
          "output_type": "stream",
          "name": "stdout",
          "text": [
            "jaja\n",
            "mlijeko\n",
            "sol\n"
          ]
        },
        {
          "output_type": "error",
          "ename": "TypeError",
          "evalue": "'tuple' object does not support item assignment",
          "traceback": [
            "\u001b[0;31m---------------------------------------------------------------------------\u001b[0m",
            "\u001b[0;31mTypeError\u001b[0m                                 Traceback (most recent call last)",
            "\u001b[0;32m/tmp/ipython-input-1665037326.py\u001b[0m in \u001b[0;36m<cell line: 0>\u001b[0;34m()\u001b[0m\n\u001b[1;32m      5\u001b[0m \u001b[0mprint\u001b[0m\u001b[0;34m(\u001b[0m\u001b[0msastojci\u001b[0m\u001b[0;34m[\u001b[0m\u001b[0;34m-\u001b[0m\u001b[0;36m1\u001b[0m\u001b[0;34m]\u001b[0m\u001b[0;34m)\u001b[0m \u001b[0;31m# sol\u001b[0m\u001b[0;34m\u001b[0m\u001b[0;34m\u001b[0m\u001b[0m\n\u001b[1;32m      6\u001b[0m \u001b[0;34m\u001b[0m\u001b[0m\n\u001b[0;32m----> 7\u001b[0;31m \u001b[0msastojci\u001b[0m\u001b[0;34m[\u001b[0m\u001b[0;36m0\u001b[0m\u001b[0;34m]\u001b[0m \u001b[0;34m=\u001b[0m \u001b[0;34m\"kvasac\"\u001b[0m \u001b[0;31m# TypeError: 'tuple' object does not support item assignment - n-torke su nepromjenjive\u001b[0m\u001b[0;34m\u001b[0m\u001b[0;34m\u001b[0m\u001b[0m\n\u001b[0m",
            "\u001b[0;31mTypeError\u001b[0m: 'tuple' object does not support item assignment"
          ]
        }
      ]
    },
    {
      "cell_type": "code",
      "source": [
        "sastojci = (\"jaja\", \"mlijeko\", \"brašno\", \"šećer\", \"sol\")\n",
        "\n",
        "print(sastojci[1:3]) # ('mlijeko', 'brašno') - dohvati elemente od indeksa 1 do indeksa 3 (ne uključujući indeks 3)\n",
        "print(sastojci[:3]) # ('jaja', 'mlijeko', 'brašno') - dohvati elemente od početka do indeksa 3 (ne uključujući indeks 3)\n",
        "print(sastojci[3:]) # ('šećer', 'sol') - dohvati elemente od indeksa 3 do kraja"
      ],
      "metadata": {
        "colab": {
          "base_uri": "https://localhost:8080/"
        },
        "id": "QO5wUmxVquji",
        "outputId": "f02896d5-4e40-4ccf-b30f-0927b7d548a6"
      },
      "execution_count": 14,
      "outputs": [
        {
          "output_type": "stream",
          "name": "stdout",
          "text": [
            "('mlijeko', 'brašno')\n",
            "('jaja', 'mlijeko', 'brašno')\n",
            "('šećer', 'sol')\n"
          ]
        }
      ]
    },
    {
      "cell_type": "code",
      "source": [
        "sastojci = (\"jaja\", \"mlijeko\", \"brašno\", \"šećer\", \"sol\")\n",
        "\n",
        "for sastojak in sastojci:\n",
        "  print(sastojak)"
      ],
      "metadata": {
        "colab": {
          "base_uri": "https://localhost:8080/"
        },
        "id": "gTZNyLq-qwtE",
        "outputId": "858b4976-544a-4904-96ba-dce1c3dcaf7c"
      },
      "execution_count": 15,
      "outputs": [
        {
          "output_type": "stream",
          "name": "stdout",
          "text": [
            "jaja\n",
            "mlijeko\n",
            "brašno\n",
            "šećer\n",
            "sol\n"
          ]
        }
      ]
    },
    {
      "cell_type": "code",
      "source": [
        "sastojci = (\"jaja\", \"mlijeko\", \"brašno\", \"šećer\", \"sol\")\n",
        "\n",
        "print(len(sastojci)) # 5"
      ],
      "metadata": {
        "colab": {
          "base_uri": "https://localhost:8080/"
        },
        "id": "PS1ntYLcq0AP",
        "outputId": "a577739b-53a5-4cd0-9fcd-2620137c0eb1"
      },
      "execution_count": 16,
      "outputs": [
        {
          "output_type": "stream",
          "name": "stdout",
          "text": [
            "5\n"
          ]
        }
      ]
    },
    {
      "cell_type": "code",
      "source": [
        "sastojci = [\"jaja\", \"mlijeko\", \"brašno\", \"šećer\", \"sol\"]\n",
        "sastojci[0] = \"kvasac\"\n",
        "print(sastojci) # ['kvasac', 'mlijeko', 'brašno', 'šećer', 'sol']\n",
        "\n",
        "sastojci[-1] = \"papar\"\n",
        "print(sastojci) # ['kvasac', 'mlijeko', 'brašno', 'šećer', 'papar']\n",
        "\n",
        "matrica = [[1, 2, 3], [4, 5, 6], [7, 8, 9]]\n",
        "\n",
        "print(matrica[0]) # [1, 2, 3]\n",
        "print(matrica[1][1]) # 5"
      ],
      "metadata": {
        "colab": {
          "base_uri": "https://localhost:8080/"
        },
        "id": "bsInh9chrDiY",
        "outputId": "c1c004a1-3d60-494a-c03c-874e2e635416"
      },
      "execution_count": 17,
      "outputs": [
        {
          "output_type": "stream",
          "name": "stdout",
          "text": [
            "['kvasac', 'mlijeko', 'brašno', 'šećer', 'sol']\n",
            "['kvasac', 'mlijeko', 'brašno', 'šećer', 'papar']\n",
            "[1, 2, 3]\n",
            "5\n"
          ]
        }
      ]
    },
    {
      "cell_type": "code",
      "source": [
        "sastojci = [(\"jaja\", 2), (\"mlijeko\", 1), (\"brašno\", 3), (\"šećer\", 1), (\"sol\", 1)]\n",
        "\n",
        "print(sastojci[0]) # ('jaja', 2)\n",
        "print(sastojci[0][1]) # 2"
      ],
      "metadata": {
        "colab": {
          "base_uri": "https://localhost:8080/"
        },
        "id": "-Uxx-75TrHRg",
        "outputId": "0a4e0379-d013-47a0-c303-930774793799"
      },
      "execution_count": 18,
      "outputs": [
        {
          "output_type": "stream",
          "name": "stdout",
          "text": [
            "('jaja', 2)\n",
            "2\n"
          ]
        }
      ]
    },
    {
      "cell_type": "code",
      "source": [
        "sastojci = [\"jaja\", \"mlijeko\", \"brašno\", \"šećer\", \"sol\"]\n",
        "\n",
        "sastojci.append(\"kvasac\")\n",
        "\n",
        "print(sastojci) # ['jaja', 'mlijeko', 'brašno', 'šećer', 'sol', 'kvasac']\n",
        "\n",
        "# ili na određenu poziciju koristeći metodu insert()\n",
        "sastojci.insert(2, \"papar\")\n",
        "\n",
        "print(sastojci) # ['jaja', 'mlijeko', 'papar', 'brašno', 'šećer', 'sol', 'kvasac']"
      ],
      "metadata": {
        "colab": {
          "base_uri": "https://localhost:8080/"
        },
        "id": "m6h8EgdxrJi4",
        "outputId": "8f4b6082-5a38-4131-feb6-ae193591a5f3"
      },
      "execution_count": 19,
      "outputs": [
        {
          "output_type": "stream",
          "name": "stdout",
          "text": [
            "['jaja', 'mlijeko', 'brašno', 'šećer', 'sol', 'kvasac']\n",
            "['jaja', 'mlijeko', 'papar', 'brašno', 'šećer', 'sol', 'kvasac']\n"
          ]
        }
      ]
    },
    {
      "cell_type": "code",
      "source": [
        "sastojci = [\"jaja\", \"mlijeko\", \"brašno\", \"šećer\", \"sol\"]\n",
        "\n",
        "sastojci.remove(\"mlijeko\")\n",
        "\n",
        "print(sastojci) # ['jaja', 'brašno', 'šećer', 'sol']\n",
        "\n",
        "\n",
        "sastojci = [\"jaja\", \"mlijeko\", \"brašno\", \"šećer\", \"sol\"]\n",
        "\n",
        "sastojci.pop() # uklanja posljednji element iz liste, jednako kao i sastojci.pop(-1)\n",
        "\n",
        "print(sastojci) # ['jaja', 'mlijeko', 'brašno', 'šećer']\n",
        "\n",
        "sastojci.pop(1)\n",
        "\n",
        "print(sastojci) # ['jaja', 'brašno', 'šećer']"
      ],
      "metadata": {
        "colab": {
          "base_uri": "https://localhost:8080/"
        },
        "id": "_G2KjXbJrMVq",
        "outputId": "e0c368a4-810f-4321-830b-c4aed9f4280a"
      },
      "execution_count": 20,
      "outputs": [
        {
          "output_type": "stream",
          "name": "stdout",
          "text": [
            "['jaja', 'brašno', 'šećer', 'sol']\n",
            "['jaja', 'mlijeko', 'brašno', 'šećer']\n",
            "['jaja', 'brašno', 'šećer']\n"
          ]
        }
      ]
    },
    {
      "cell_type": "code",
      "source": [
        "\n",
        "sastojci = [\"jaja\", \"mlijeko\", \"brašno\", \"šećer\", \"sol\"]\n",
        "\n",
        "for sastojak in sastojci:\n",
        "  print(sastojak)\n",
        "\n",
        "# ili koristeći enumerate() funkciju za ispisivanje indeksa\n",
        "for indeks, sastojak in enumerate(sastojci):\n",
        "  print(f\"{indeks}: {sastojak}\")"
      ],
      "metadata": {
        "colab": {
          "base_uri": "https://localhost:8080/"
        },
        "id": "MEBBZ06arQ2B",
        "outputId": "8ed522f3-b5c9-43d2-a120-60b74981d604"
      },
      "execution_count": 21,
      "outputs": [
        {
          "output_type": "stream",
          "name": "stdout",
          "text": [
            "jaja\n",
            "mlijeko\n",
            "brašno\n",
            "šećer\n",
            "sol\n",
            "0: jaja\n",
            "1: mlijeko\n",
            "2: brašno\n",
            "3: šećer\n",
            "4: sol\n"
          ]
        }
      ]
    },
    {
      "cell_type": "code",
      "source": [
        "sastojci = [\"jaja\", \"mlijeko\", \"brašno\", \"šećer\", \"sol\"]\n",
        "\n",
        "sastojci.reverse()\n",
        "\n",
        "print(sastojci) # ['sol', 'šećer', 'brašno', 'mlijeko', 'jaja']\n",
        "\n",
        "sastojci.sort()\n",
        "\n",
        "print(sastojci) # ['brašno', 'jaja', 'mlijeko', 'sol', 'šećer'] - sortira elemente u rastućem redoslijedu (abecedno)"
      ],
      "metadata": {
        "colab": {
          "base_uri": "https://localhost:8080/"
        },
        "id": "cl-f_Tc8rS00",
        "outputId": "357eb131-2afd-4c65-a577-1fc87ba0cf2f"
      },
      "execution_count": 22,
      "outputs": [
        {
          "output_type": "stream",
          "name": "stdout",
          "text": [
            "['sol', 'šećer', 'brašno', 'mlijeko', 'jaja']\n",
            "['brašno', 'jaja', 'mlijeko', 'sol', 'šećer']\n"
          ]
        }
      ]
    },
    {
      "cell_type": "code",
      "source": [
        "rjecnik = {\"ime\": \"Ivan\", \"prezime\": \"Ivić\", \"dob\": 25}\n",
        "print(rjecnik) # {'ime': 'Ivan', 'prezime': 'Ivić', 'dob': 25}"
      ],
      "metadata": {
        "colab": {
          "base_uri": "https://localhost:8080/"
        },
        "id": "qnm529hlrVaO",
        "outputId": "e6d830c3-8238-4ea9-f0b1-0b29aaf24dc2"
      },
      "execution_count": 23,
      "outputs": [
        {
          "output_type": "stream",
          "name": "stdout",
          "text": [
            "{'ime': 'Ivan', 'prezime': 'Ivić', 'dob': 25}\n"
          ]
        }
      ]
    },
    {
      "cell_type": "code",
      "source": [
        "rjecnik = {\"ime\": \"Ivan\", \"prezime\": \"Ivić\", \"dob\": 25}\n",
        "\n",
        "print(rjecnik[\"ime\"]) # Ivan\n",
        "print(rjecnik[\"dob\"]) # 25\n",
        "\n",
        "print(rjecnik[1]) # KeyError: 1 - ključ 1 ne postoji u rječniku"
      ],
      "metadata": {
        "colab": {
          "base_uri": "https://localhost:8080/",
          "height": 211
        },
        "id": "0K6p1pDVrXUU",
        "outputId": "3ceb1a5f-7287-458b-e6d1-3a3fecdc14db"
      },
      "execution_count": 24,
      "outputs": [
        {
          "output_type": "stream",
          "name": "stdout",
          "text": [
            "Ivan\n",
            "25\n"
          ]
        },
        {
          "output_type": "error",
          "ename": "KeyError",
          "evalue": "1",
          "traceback": [
            "\u001b[0;31m---------------------------------------------------------------------------\u001b[0m",
            "\u001b[0;31mKeyError\u001b[0m                                  Traceback (most recent call last)",
            "\u001b[0;32m/tmp/ipython-input-904932821.py\u001b[0m in \u001b[0;36m<cell line: 0>\u001b[0;34m()\u001b[0m\n\u001b[1;32m      4\u001b[0m \u001b[0mprint\u001b[0m\u001b[0;34m(\u001b[0m\u001b[0mrjecnik\u001b[0m\u001b[0;34m[\u001b[0m\u001b[0;34m\"dob\"\u001b[0m\u001b[0;34m]\u001b[0m\u001b[0;34m)\u001b[0m \u001b[0;31m# 25\u001b[0m\u001b[0;34m\u001b[0m\u001b[0;34m\u001b[0m\u001b[0m\n\u001b[1;32m      5\u001b[0m \u001b[0;34m\u001b[0m\u001b[0m\n\u001b[0;32m----> 6\u001b[0;31m \u001b[0mprint\u001b[0m\u001b[0;34m(\u001b[0m\u001b[0mrjecnik\u001b[0m\u001b[0;34m[\u001b[0m\u001b[0;36m1\u001b[0m\u001b[0;34m]\u001b[0m\u001b[0;34m)\u001b[0m \u001b[0;31m# KeyError: 1 - ključ 1 ne postoji u rječniku\u001b[0m\u001b[0;34m\u001b[0m\u001b[0;34m\u001b[0m\u001b[0m\n\u001b[0m",
            "\u001b[0;31mKeyError\u001b[0m: 1"
          ]
        }
      ]
    },
    {
      "cell_type": "code",
      "source": [
        "rjecnik = {\"ime\": \"Ivan\", \"prezime\": \"Ivić\", \"dob\": 25, \"ime\": \"Marko\"}\n",
        "\n",
        "print(rjecnik) # {'ime': 'Marko', 'prezime': 'Ivić', 'dob': 25} - ključ \"ime\" s vrijednošću \"Ivan\" je zamijenjen s \"Marko\""
      ],
      "metadata": {
        "colab": {
          "base_uri": "https://localhost:8080/"
        },
        "id": "BSLBPFkcrcof",
        "outputId": "fec1290b-95cd-4d0d-bbca-a10a57218e21"
      },
      "execution_count": 25,
      "outputs": [
        {
          "output_type": "stream",
          "name": "stdout",
          "text": [
            "{'ime': 'Marko', 'prezime': 'Ivić', 'dob': 25}\n"
          ]
        }
      ]
    },
    {
      "cell_type": "code",
      "source": [
        "rjecnik = {\"ime\": \"Ivan\", \"prezime\": \"Ivić\", \"dob\": 25}\n",
        "\n",
        "rjecnik[\"adresa\"] = \"Zagreb\"\n",
        "\n",
        "print(rjecnik) # {'ime': 'Ivan', 'prezime': 'Ivić', 'dob': 25, 'adresa': 'Zagreb'}\n",
        "\n",
        "rjecnik[\"dob\"] = 26\n",
        "\n",
        "print(rjecnik) # {'ime': 'Ivan', 'prezime': 'Ivić', 'dob': 26, 'adresa': 'Zagreb'}"
      ],
      "metadata": {
        "colab": {
          "base_uri": "https://localhost:8080/"
        },
        "id": "MAy-8PxMrfbp",
        "outputId": "7da980b9-9586-4d83-f91f-e777eb730c06"
      },
      "execution_count": 26,
      "outputs": [
        {
          "output_type": "stream",
          "name": "stdout",
          "text": [
            "{'ime': 'Ivan', 'prezime': 'Ivić', 'dob': 25, 'adresa': 'Zagreb'}\n",
            "{'ime': 'Ivan', 'prezime': 'Ivić', 'dob': 26, 'adresa': 'Zagreb'}\n"
          ]
        }
      ]
    },
    {
      "cell_type": "code",
      "source": [
        "rjecnik = {\"ime\": \"Ivan\", \"prezime\": \"Ivić\", \"dob\": 25}\n",
        "\n",
        "for kljuc in rjecnik: # automatski koristi metodu keys()\n",
        "  print(kljuc, rjecnik[kljuc]) # ime Ivan, prezime Ivić, dob 25"
      ],
      "metadata": {
        "colab": {
          "base_uri": "https://localhost:8080/"
        },
        "id": "AOjyBBJ5rjGh",
        "outputId": "5571d46a-101a-45d7-c026-b5f2cf8e3f46"
      },
      "execution_count": 27,
      "outputs": [
        {
          "output_type": "stream",
          "name": "stdout",
          "text": [
            "ime Ivan\n",
            "prezime Ivić\n",
            "dob 25\n"
          ]
        }
      ]
    },
    {
      "cell_type": "code",
      "source": [
        "rjecnik = {\"ime\": \"Ivan\", \"prezime\": \"Ivić\", \"dob\": 25}\n",
        "\n",
        "print(rjecnik.keys()) # dict_keys(['ime', 'prezime', 'dob'])\n",
        "print(rjecnik.values()) # dict_values(['Ivan', 'Ivić', 25])\n",
        "\n",
        "# dohvaćanje ključeva i vrijednosti pomoću metode items()\n",
        "for kljuc, vrijednost in rjecnik.items():\n",
        "  print(kljuc, vrijednost) # ime Ivan, prezime Ivić, dob 25"
      ],
      "metadata": {
        "colab": {
          "base_uri": "https://localhost:8080/"
        },
        "id": "wb8WsJRMrmrK",
        "outputId": "b9e86e81-5d1d-4e58-f50c-a1d4ba30e95f"
      },
      "execution_count": 28,
      "outputs": [
        {
          "output_type": "stream",
          "name": "stdout",
          "text": [
            "dict_keys(['ime', 'prezime', 'dob'])\n",
            "dict_values(['Ivan', 'Ivić', 25])\n",
            "ime Ivan\n",
            "prezime Ivić\n",
            "dob 25\n"
          ]
        }
      ]
    },
    {
      "cell_type": "code",
      "source": [
        "tablica = dict([(\"rajčica\", \"povrće\"), (\"jabuka\", \"voće\")])\n",
        "\n",
        "print(tablica) # {'rajčica': 'povrće', 'jabuka': 'voće'}"
      ],
      "metadata": {
        "colab": {
          "base_uri": "https://localhost:8080/"
        },
        "id": "LdpH44KvrqBc",
        "outputId": "dbadd506-1170-45c3-de84-4ef7ceac5f8d"
      },
      "execution_count": 29,
      "outputs": [
        {
          "output_type": "stream",
          "name": "stdout",
          "text": [
            "{'rajčica': 'povrće', 'jabuka': 'voće'}\n"
          ]
        }
      ]
    },
    {
      "cell_type": "code",
      "source": [
        "cjenik = dict(ćevapi = 10, pivo = 15, kava = 7)\n",
        "\n",
        "print(cjenik) # {'ćevapi': 10, 'pivo': 15, 'kava': 7}"
      ],
      "metadata": {
        "colab": {
          "base_uri": "https://localhost:8080/"
        },
        "id": "_IDkGEQ1rrwZ",
        "outputId": "a3bc1d0e-3db1-41f1-eb71-43c730d1ad3c"
      },
      "execution_count": 30,
      "outputs": [
        {
          "output_type": "stream",
          "name": "stdout",
          "text": [
            "{'ćevapi': 10, 'pivo': 15, 'kava': 7}\n"
          ]
        }
      ]
    },
    {
      "cell_type": "code",
      "source": [
        "namirnice = {\"čokolada\": [\"smeđe\", \"ukusno\", \"zdravo\"], \"kelj\": [\"zeleno\", \"gorko\", \"zdravo\"], \"luk\": [\"bijelo\", \"smrdljivo\", \"zdravo\"], \"špek\": [\"crveno\", \"slano\", \"nezdravo\"]}\n",
        "\n",
        "print(namirnice[\"čokolada\"]) # ['smeđe', 'ukusno', 'zdravo']\n",
        "\n",
        "print(type(namirnice)) # <class 'dict'>\n",
        "# ali\n",
        "print(type(namirnice[\"čokolada\"])) # <class 'list'>"
      ],
      "metadata": {
        "colab": {
          "base_uri": "https://localhost:8080/"
        },
        "id": "6WeLWco7rt5c",
        "outputId": "1f94812e-b276-4308-f3b0-4a1abfba2a5c"
      },
      "execution_count": 31,
      "outputs": [
        {
          "output_type": "stream",
          "name": "stdout",
          "text": [
            "['smeđe', 'ukusno', 'zdravo']\n",
            "<class 'dict'>\n",
            "<class 'list'>\n"
          ]
        }
      ]
    },
    {
      "cell_type": "code",
      "source": [
        "namirnice = {\"čokolada\": [\"smeđe\", \"ukusno\", \"zdravo\"], \"kelj\": [\"zeleno\", \"gorko\", \"zdravo\"], \"luk\": [\"bijelo\", \"smrdljivo\", \"zdravo\"], \"špek\": [\"crveno\", \"slano\", \"nezdravo\"]}\n",
        "\n",
        "print(namirnice.keys()) # dict_keys(['čokolada', 'kelj', 'luk', 'špek'])\n",
        "\n",
        "for kljuc in namirnice.keys():\n",
        "  print(kljuc) # čokolada, kelj, luk, špek"
      ],
      "metadata": {
        "colab": {
          "base_uri": "https://localhost:8080/"
        },
        "id": "6ALR1vEtrwqv",
        "outputId": "a99327b6-77e5-4515-944a-6e5431d81cff"
      },
      "execution_count": 32,
      "outputs": [
        {
          "output_type": "stream",
          "name": "stdout",
          "text": [
            "dict_keys(['čokolada', 'kelj', 'luk', 'špek'])\n",
            "čokolada\n",
            "kelj\n",
            "luk\n",
            "špek\n"
          ]
        }
      ]
    },
    {
      "cell_type": "code",
      "source": [
        "skup = {1, 2, 3, 4, 5}\n",
        "\n",
        "print(skup) # {1, 2, 3, 4, 5}\n",
        "\n",
        "skup_2 = {\"banana\", \"jabuka\", \"kruška\"}\n",
        "\n",
        "print(skup_2) # {'banana', 'jabuka', 'kruška'}"
      ],
      "metadata": {
        "colab": {
          "base_uri": "https://localhost:8080/"
        },
        "id": "_qv2vH1sr2Ia",
        "outputId": "21f8166c-c4a1-41c6-88ca-3daca3406841"
      },
      "execution_count": 33,
      "outputs": [
        {
          "output_type": "stream",
          "name": "stdout",
          "text": [
            "{1, 2, 3, 4, 5}\n",
            "{'kruška', 'banana', 'jabuka'}\n"
          ]
        }
      ]
    },
    {
      "cell_type": "code",
      "source": [
        "skup = {1, 2, 3, 4, 5}\n",
        "skup.add(6)\n",
        "print(skup) # {1, 2, 3, 4, 5, 6}\n",
        "\n",
        "skup.remove(3)\n",
        "print(skup) # {1, 2, 4, 5, 6}\n",
        "skup.add(1) # duplikat se neće dodati, skup ostaje nepromijenjen"
      ],
      "metadata": {
        "colab": {
          "base_uri": "https://localhost:8080/"
        },
        "id": "AXiLg8qGr4S7",
        "outputId": "94a784c4-46ca-4ee4-cba3-6bbdc81d2af9"
      },
      "execution_count": 34,
      "outputs": [
        {
          "output_type": "stream",
          "name": "stdout",
          "text": [
            "{1, 2, 3, 4, 5, 6}\n",
            "{1, 2, 4, 5, 6}\n"
          ]
        }
      ]
    },
    {
      "cell_type": "code",
      "source": [
        "skup = {1, 2, 3, 4, 5}\n",
        "\n",
        "for element in skup:\n",
        "  print(element)\n",
        "\n",
        "# jednako tako možemo i koristiti operator `in` za ispitivanje pripadnosti\n",
        "\n",
        "print(1 in skup) # True\n",
        "print(6 in skup) # False"
      ],
      "metadata": {
        "colab": {
          "base_uri": "https://localhost:8080/"
        },
        "id": "hB8NPCdVr6NY",
        "outputId": "e94c417c-8d6f-453e-a772-15695d18f1e6"
      },
      "execution_count": 35,
      "outputs": [
        {
          "output_type": "stream",
          "name": "stdout",
          "text": [
            "1\n",
            "2\n",
            "3\n",
            "4\n",
            "5\n",
            "True\n",
            "False\n"
          ]
        }
      ]
    },
    {
      "cell_type": "code",
      "source": [
        "skup = {1, 2, 3, 4, 5}\n",
        "skup.discard(3)\n",
        "print(skup) # {1, 2, 4, 5}\n",
        "\n",
        "skup.discard(6) # neće baciti iznimku\n",
        "print(skup) # {1, 2, 4, 5}\n",
        "\n",
        "skup.remove(6) # KeyError: 6 - element 6 ne postoji u skupu"
      ],
      "metadata": {
        "colab": {
          "base_uri": "https://localhost:8080/",
          "height": 211
        },
        "id": "dOyCAof9r8ez",
        "outputId": "b502c941-84b6-4e87-9238-a1674fc4c69c"
      },
      "execution_count": 36,
      "outputs": [
        {
          "output_type": "stream",
          "name": "stdout",
          "text": [
            "{1, 2, 4, 5}\n",
            "{1, 2, 4, 5}\n"
          ]
        },
        {
          "output_type": "error",
          "ename": "KeyError",
          "evalue": "6",
          "traceback": [
            "\u001b[0;31m---------------------------------------------------------------------------\u001b[0m",
            "\u001b[0;31mKeyError\u001b[0m                                  Traceback (most recent call last)",
            "\u001b[0;32m/tmp/ipython-input-485293208.py\u001b[0m in \u001b[0;36m<cell line: 0>\u001b[0;34m()\u001b[0m\n\u001b[1;32m      6\u001b[0m \u001b[0mprint\u001b[0m\u001b[0;34m(\u001b[0m\u001b[0mskup\u001b[0m\u001b[0;34m)\u001b[0m \u001b[0;31m# {1, 2, 4, 5}\u001b[0m\u001b[0;34m\u001b[0m\u001b[0;34m\u001b[0m\u001b[0m\n\u001b[1;32m      7\u001b[0m \u001b[0;34m\u001b[0m\u001b[0m\n\u001b[0;32m----> 8\u001b[0;31m \u001b[0mskup\u001b[0m\u001b[0;34m.\u001b[0m\u001b[0mremove\u001b[0m\u001b[0;34m(\u001b[0m\u001b[0;36m6\u001b[0m\u001b[0;34m)\u001b[0m \u001b[0;31m# KeyError: 6 - element 6 ne postoji u skupu\u001b[0m\u001b[0;34m\u001b[0m\u001b[0;34m\u001b[0m\u001b[0m\n\u001b[0m",
            "\u001b[0;31mKeyError\u001b[0m: 6"
          ]
        }
      ]
    },
    {
      "cell_type": "code",
      "source": [
        "voce = {\"🍎\", \"🍌\", \"🍐\", \"🍊\"}\n",
        "\n",
        "povrce = {\"🍅\", \"🥒\", \"🧅\", \"🥬\"}\n",
        "\n",
        "print(voce.union(povrce)) # {'🍎', '🍌', '🍐', '🍊', '🍅', '🥒', '🧅', '🥬'}\n",
        "\n",
        "print(voce.intersection(povrce)) # set() - prazan skup, jer voće i povrće nemaju zajedničkih elemenata"
      ],
      "metadata": {
        "colab": {
          "base_uri": "https://localhost:8080/"
        },
        "id": "M-GmYNx_sB8l",
        "outputId": "c634b05a-3270-46c2-ed39-05197774c152"
      },
      "execution_count": 37,
      "outputs": [
        {
          "output_type": "stream",
          "name": "stdout",
          "text": [
            "{'🍅', '🍐', '🍎', '🍊', '🥬', '🧅', '🍌', '🥒'}\n",
            "set()\n"
          ]
        }
      ]
    },
    {
      "cell_type": "code",
      "source": [
        "voce.add(\"🍅\")\n",
        "\n",
        "print(voce.intersection(povrce)) # {'🍅'} - rajčica je voće i povrće (presjek dvaju skupova)\n",
        "\n",
        "print(voce.difference(povrce)) # {'🍎', '🍌', '🍐', '🍊'} - voće koje nije povrće\n",
        "\n",
        "print(povrce.difference(voce)) # {'🥒', '🧅', '🥬'} - povrće koje nije voće"
      ],
      "metadata": {
        "colab": {
          "base_uri": "https://localhost:8080/"
        },
        "id": "DgOjJVSosFDl",
        "outputId": "f42d625b-fd1f-45db-ad80-74ab4a82e74f"
      },
      "execution_count": 38,
      "outputs": [
        {
          "output_type": "stream",
          "name": "stdout",
          "text": [
            "{'🍅'}\n",
            "{'🍊', '🍌', '🍐', '🍎'}\n",
            "{'🧅', '🥒', '🥬'}\n"
          ]
        }
      ]
    },
    {
      "cell_type": "code",
      "source": [
        "def pozdrav():\n",
        "  print(\"Hello, world!\")\n",
        "\n",
        "pozdrav() # Hello, world!"
      ],
      "metadata": {
        "colab": {
          "base_uri": "https://localhost:8080/"
        },
        "id": "8bm8xYL5sJF4",
        "outputId": "51379ae0-23c2-41d8-db2b-3b547325a9bc"
      },
      "execution_count": 39,
      "outputs": [
        {
          "output_type": "stream",
          "name": "stdout",
          "text": [
            "Hello, world!\n"
          ]
        }
      ]
    },
    {
      "cell_type": "code",
      "source": [
        "def zbroj(a, b):\n",
        "  return a + b\n",
        "\n",
        "print(zbroj(3, 5)) # 8\n",
        "\n",
        "print(zbroj(3)) # TypeError: zbroj() missing 1 required positional argument: 'b'"
      ],
      "metadata": {
        "colab": {
          "base_uri": "https://localhost:8080/",
          "height": 193
        },
        "id": "yQxBXBHFsLAK",
        "outputId": "7dddcd68-5569-4b6a-c030-a5473e24d123"
      },
      "execution_count": 40,
      "outputs": [
        {
          "output_type": "stream",
          "name": "stdout",
          "text": [
            "8\n"
          ]
        },
        {
          "output_type": "error",
          "ename": "TypeError",
          "evalue": "zbroj() missing 1 required positional argument: 'b'",
          "traceback": [
            "\u001b[0;31m---------------------------------------------------------------------------\u001b[0m",
            "\u001b[0;31mTypeError\u001b[0m                                 Traceback (most recent call last)",
            "\u001b[0;32m/tmp/ipython-input-1900404599.py\u001b[0m in \u001b[0;36m<cell line: 0>\u001b[0;34m()\u001b[0m\n\u001b[1;32m      4\u001b[0m \u001b[0mprint\u001b[0m\u001b[0;34m(\u001b[0m\u001b[0mzbroj\u001b[0m\u001b[0;34m(\u001b[0m\u001b[0;36m3\u001b[0m\u001b[0;34m,\u001b[0m \u001b[0;36m5\u001b[0m\u001b[0;34m)\u001b[0m\u001b[0;34m)\u001b[0m \u001b[0;31m# 8\u001b[0m\u001b[0;34m\u001b[0m\u001b[0;34m\u001b[0m\u001b[0m\n\u001b[1;32m      5\u001b[0m \u001b[0;34m\u001b[0m\u001b[0m\n\u001b[0;32m----> 6\u001b[0;31m \u001b[0mprint\u001b[0m\u001b[0;34m(\u001b[0m\u001b[0mzbroj\u001b[0m\u001b[0;34m(\u001b[0m\u001b[0;36m3\u001b[0m\u001b[0;34m)\u001b[0m\u001b[0;34m)\u001b[0m \u001b[0;31m# TypeError: zbroj() missing 1 required positional argument: 'b'\u001b[0m\u001b[0;34m\u001b[0m\u001b[0;34m\u001b[0m\u001b[0m\n\u001b[0m",
            "\u001b[0;31mTypeError\u001b[0m: zbroj() missing 1 required positional argument: 'b'"
          ]
        }
      ]
    },
    {
      "cell_type": "code",
      "source": [
        "def zbroj(a=0, b=0):\n",
        "  return a + b\n",
        "\n",
        "print(zbroj()) # 0\n",
        "print(zbroj(3)) # 3\n",
        "print(zbroj(3, 5)) # 8"
      ],
      "metadata": {
        "colab": {
          "base_uri": "https://localhost:8080/"
        },
        "id": "OHgOe3VhsNZH",
        "outputId": "1f05d619-db1e-412c-90cd-038653f0756a"
      },
      "execution_count": 41,
      "outputs": [
        {
          "output_type": "stream",
          "name": "stdout",
          "text": [
            "0\n",
            "3\n",
            "8\n"
          ]
        }
      ]
    },
    {
      "cell_type": "code",
      "source": [
        "def zbroj_razlika(a, b):\n",
        "  zbroj = a + b\n",
        "  razlika = a - b\n",
        "  return zbroj, razlika\n",
        "\n",
        "z, r = zbroj_razlika(5, 3)\n",
        "\n",
        "print(z, r)"
      ],
      "metadata": {
        "colab": {
          "base_uri": "https://localhost:8080/"
        },
        "id": "hYuhR9XZsPQ1",
        "outputId": "232573ef-132b-4695-fe3b-81e924047ea8"
      },
      "execution_count": 43,
      "outputs": [
        {
          "output_type": "stream",
          "name": "stdout",
          "text": [
            "8 2\n"
          ]
        }
      ]
    },
    {
      "cell_type": "code",
      "source": [
        "def faktorijel(n):\n",
        "  if n == 0:\n",
        "    return 1\n",
        "  else:\n",
        "    return n * faktorijel(n - 1)\n",
        "\n",
        "print(faktorijel(5)) # 120"
      ],
      "metadata": {
        "colab": {
          "base_uri": "https://localhost:8080/"
        },
        "id": "UUf5K0wusVgj",
        "outputId": "d2b0ae20-269c-40c4-ffe3-e40bff301fae"
      },
      "execution_count": 44,
      "outputs": [
        {
          "output_type": "stream",
          "name": "stdout",
          "text": [
            "120\n"
          ]
        }
      ]
    },
    {
      "cell_type": "code",
      "source": [
        "import time\n",
        "def točnoVrijeme():\n",
        "  vrijeme = time.localtime() # funkcija (metoda) koja vraća trenutno vrijeme\n",
        "  sati = vrijeme.tm_hour # funkcija (metoda) koja vraća trenutni sat\n",
        "  minute = vrijeme.tm_min # funkcija (metoda) koja vraća trenutnu minutu\n",
        "  sekunde = vrijeme.tm_sec # funkcija (metoda) koja vraća trenutnu sekundu\n",
        "  return f\"{sati}:{minute}:{sekunde}\"\n",
        "\n",
        "print(točnoVrijeme())"
      ],
      "metadata": {
        "colab": {
          "base_uri": "https://localhost:8080/"
        },
        "id": "SsHf3rXdsXQS",
        "outputId": "e72ddbcc-1860-4170-cfa0-86eb1f1c4715"
      },
      "execution_count": 45,
      "outputs": [
        {
          "output_type": "stream",
          "name": "stdout",
          "text": [
            "9:40:51\n"
          ]
        }
      ]
    },
    {
      "cell_type": "code",
      "source": [
        "print(točnoVrijeme) # <function točnoVrijeme at <nekaAdresa>>"
      ],
      "metadata": {
        "colab": {
          "base_uri": "https://localhost:8080/"
        },
        "id": "_zXnRF8lsaNq",
        "outputId": "849a1272-f43d-4d33-bc2c-3c450aa28321"
      },
      "execution_count": 46,
      "outputs": [
        {
          "output_type": "stream",
          "name": "stdout",
          "text": [
            "<function točnoVrijeme at 0x7aaf1b9539c0>\n"
          ]
        }
      ]
    },
    {
      "cell_type": "code",
      "source": [
        "x = \"global x\"\n",
        "\n",
        "def vanjska_funkcija():\n",
        "    x = \"enclosing x\"\n",
        "\n",
        "    def unutarnja_funkcija():\n",
        "        x = \"local x\"\n",
        "        print(\"LINIJA 8: \", x)  # Ovo će ispisivati \"local x\"\n",
        "\n",
        "    unutarnja_funkcija()\n",
        "    print(\"LINIJA 11: \", x)  # Ovo će ispisivati \"enclosing x\"\n",
        "\n",
        "vanjska_funkcija()\n",
        "print(\"LINIJA 14: \", x)  # Ovo će ispisivati \"global x\""
      ],
      "metadata": {
        "colab": {
          "base_uri": "https://localhost:8080/"
        },
        "id": "BL_82-kqsebA",
        "outputId": "573b40ab-0634-4905-bc78-2d1ddaea09da"
      },
      "execution_count": 47,
      "outputs": [
        {
          "output_type": "stream",
          "name": "stdout",
          "text": [
            "LINIJA 8:  local x\n",
            "LINIJA 11:  enclosing x\n",
            "LINIJA 14:  global x\n"
          ]
        }
      ]
    },
    {
      "cell_type": "code",
      "source": [
        "def potenciranje_faktorom(lista, faktor):\n",
        "  nova_lista = []\n",
        "  for broj in lista:\n",
        "    nova_lista.append(broj ** faktor)\n",
        "  return nova_lista\n",
        "\n",
        "print(potenciranje_faktorom([1, 2, 3, 4, 5], 2)) # [1, 4, 9, 16, 25]"
      ],
      "metadata": {
        "colab": {
          "base_uri": "https://localhost:8080/"
        },
        "id": "OgJR_KOFsguP",
        "outputId": "3dfbf973-ab76-45ef-9073-810d6e9b1e81"
      },
      "execution_count": 49,
      "outputs": [
        {
          "output_type": "stream",
          "name": "stdout",
          "text": [
            "[1, 4, 9, 16, 25]\n"
          ]
        }
      ]
    },
    {
      "cell_type": "code",
      "source": [
        "def pomnozi_s_dva(x):\n",
        "  return x * 2\n",
        "\n",
        "def primjeni_na_listu(funkcija, lista):\n",
        "  nova_lista = []\n",
        "  for element in lista:\n",
        "    nova_lista.append(funkcija(element))\n",
        "  return nova_lista\n",
        "\n",
        "print(primjeni_na_listu(pomnozi_s_dva, [1, 2, 3, 4, 5])) # [2, 4, 6, 8, 10]"
      ],
      "metadata": {
        "colab": {
          "base_uri": "https://localhost:8080/"
        },
        "id": "31I1MGxFsk18",
        "outputId": "7c325881-82b2-498c-bf10-5febc2d7d421"
      },
      "execution_count": 50,
      "outputs": [
        {
          "output_type": "stream",
          "name": "stdout",
          "text": [
            "[2, 4, 6, 8, 10]\n"
          ]
        }
      ]
    },
    {
      "cell_type": "code",
      "source": [
        "import math\n",
        "\n",
        "def trigonometrija(kut):\n",
        "  radijani = math.radians(kut) # pretvara kut u radijane\n",
        "  sinus = math.sin(radijani)\n",
        "  kosinus = math.cos(radijani)\n",
        "  tangens = math.tan(radijani)\n",
        "  return sinus, kosinus, tangens # vraća n-torku s vrijednostima trigonometrijskih funkcija\n",
        "\n",
        "# Poziv funkcije\n",
        "kut = 45\n",
        "sinus, kosinus, tangens = trigonometrija(kut)\n",
        "print(f\"Sinus: {sinus}, Kosinus: {kosinus}, Tangens: {tangens}\")"
      ],
      "metadata": {
        "colab": {
          "base_uri": "https://localhost:8080/"
        },
        "id": "gIYYHKdBsqo-",
        "outputId": "31a44620-cd82-4d7d-cac6-dc230de3a9da"
      },
      "execution_count": 51,
      "outputs": [
        {
          "output_type": "stream",
          "name": "stdout",
          "text": [
            "Sinus: 0.7071067811865475, Kosinus: 0.7071067811865476, Tangens: 0.9999999999999999\n"
          ]
        }
      ]
    },
    {
      "cell_type": "code",
      "source": [
        "def provjera_lozinke(lozinka):\n",
        "    # Provjera duljine\n",
        "    if len(lozinka) < 8 or len(lozinka) > 15:\n",
        "        print(\"Lozinka mora sadržavati između 8 i 15 znakova.\")\n",
        "        return\n",
        "\n",
        "    # Provjera barem jednog velikog slova i jednog broja\n",
        "    ima_veliko = any(z.isupper() for z in lozinka)\n",
        "    ima_broj = any(z.isdigit() for z in lozinka)\n",
        "    if not (ima_veliko and ima_broj):\n",
        "        print(\"Lozinka mora sadržavati barem jedno veliko slovo i jedan broj.\")\n",
        "        return\n",
        "\n",
        "    # Provjera zabranjenih riječi\n",
        "    lozinka_lower = lozinka.lower()\n",
        "    if \"password\" in lozinka_lower or \"lozinka\" in lozinka_lower:\n",
        "        print(\"Lozinka ne smije sadržavati riječi 'password' ili 'lozinka'.\")\n",
        "        return\n",
        "\n",
        "    # Ako sve prođe\n",
        "    print(\"Lozinka je jaka!\")\n",
        "\n",
        "\n",
        "# Glavni dio programa\n",
        "unesena_lozinka = input(\"Unesi lozinku: \")\n",
        "provjera_lozinke(unesena_lozinka)\n"
      ],
      "metadata": {
        "colab": {
          "base_uri": "https://localhost:8080/"
        },
        "id": "Ek-uOQwIstMZ",
        "outputId": "76e9f4b5-2e67-49e4-8601-f03ace4dcec5"
      },
      "execution_count": 55,
      "outputs": [
        {
          "output_type": "stream",
          "name": "stdout",
          "text": [
            "Unesi lozinku: loz6969inkaJOJ//\n",
            "Lozinka mora sadržavati između 8 i 15 znakova.\n"
          ]
        }
      ]
    },
    {
      "cell_type": "code",
      "source": [
        "def filtriraj_parne(lista):\n",
        "  nova_lista = []\n",
        "  for broj in lista:\n",
        "    if broj % 2 == 0:\n",
        "      nova_lista.append(broj)\n",
        "  return nova_lista\n",
        "lista = [1, 2, 3, 4, 5, 6, 7, 8, 9, 10]\n",
        "\n",
        "print(filtriraj_parne(lista)) # [2, 4, 6, 8, 10]"
      ],
      "metadata": {
        "colab": {
          "base_uri": "https://localhost:8080/"
        },
        "id": "GfgU05xutpTm",
        "outputId": "0a4a78dc-f4ce-4563-b33d-431379e72559"
      },
      "execution_count": 56,
      "outputs": [
        {
          "output_type": "stream",
          "name": "stdout",
          "text": [
            "[2, 4, 6, 8, 10]\n"
          ]
        }
      ]
    },
    {
      "cell_type": "code",
      "source": [
        "def filtriraj_duple(lista):\n",
        "  nova_lista = []\n",
        "  for broj in lista:\n",
        "    if broj not in nova_lista:\n",
        "      nova_lista.append(broj)\n",
        "  return nova_lista\n",
        "\n",
        "lista = [1, 2, 3, 4, 5, 6, 6, 6, 7, 8, 9, 10]\n",
        "\n",
        "print(filtriraj_duple(lista))"
      ],
      "metadata": {
        "colab": {
          "base_uri": "https://localhost:8080/"
        },
        "id": "SXb6DbWnt0RQ",
        "outputId": "c58216c8-5083-4d17-ab02-6f79ce79738e"
      },
      "execution_count": 59,
      "outputs": [
        {
          "output_type": "stream",
          "name": "stdout",
          "text": [
            "[1, 2, 3, 4, 5, 6, 7, 8, 9, 10]\n"
          ]
        }
      ]
    },
    {
      "cell_type": "code",
      "source": [
        "def brojanje_riječi(tekst):\n",
        "    rijeci = tekst.split()\n",
        "    brojac = {}\n",
        "\n",
        "    for rijec in rijeci:\n",
        "        if rijec in brojac:\n",
        "            brojac[rijec] += 1\n",
        "        else:\n",
        "            brojac[rijec] = 1\n",
        "\n",
        "    return brojac\n",
        "\n",
        "\n",
        "tekst = \"Python je programski jezik koji je jednostavan za učenje i korištenje. Python je vrlo popularan.\"\n",
        "print(brojanje_riječi(tekst))\n"
      ],
      "metadata": {
        "colab": {
          "base_uri": "https://localhost:8080/"
        },
        "id": "NU3LJxb2ukCP",
        "outputId": "a7232f90-8e64-4b25-8f8b-6b9f0b6850d4"
      },
      "execution_count": 60,
      "outputs": [
        {
          "output_type": "stream",
          "name": "stdout",
          "text": [
            "{'Python': 2, 'je': 3, 'programski': 1, 'jezik': 1, 'koji': 1, 'jednostavan': 1, 'za': 1, 'učenje': 1, 'i': 1, 'korištenje.': 1, 'vrlo': 1, 'popularan.': 1}\n"
          ]
        }
      ]
    },
    {
      "cell_type": "code",
      "source": [
        "def grupiraj_po_parnosti(lista):\n",
        "  parni = []\n",
        "  neparni = []\n",
        "\n",
        "  for broj in lista:\n",
        "    if broj % 2 == 0:\n",
        "      parni.append(broj)\n",
        "    else:\n",
        "      neparni.append(broj)\n",
        "\n",
        "  return parni, neparni\n",
        "\n",
        "lista = [1, 2, 3, 4, 5, 6, 7, 8, 9, 10]\n",
        "\n",
        "print(grupiraj_po_parnosti(lista))"
      ],
      "metadata": {
        "colab": {
          "base_uri": "https://localhost:8080/"
        },
        "id": "n17_rV8QunlW",
        "outputId": "b0f55a4e-1b4c-4759-f54b-02faea3cc055"
      },
      "execution_count": 61,
      "outputs": [
        {
          "output_type": "stream",
          "name": "stdout",
          "text": [
            "([2, 4, 6, 8, 10], [1, 3, 5, 7, 9])\n"
          ]
        }
      ]
    },
    {
      "cell_type": "code",
      "source": [
        "def obrni_rjecnik(rjecnik):\n",
        "    novi_rjecnik = {}\n",
        "    for kljuc, vrijednost in rjecnik.items():\n",
        "        novi_rjecnik[vrijednost] = kljuc\n",
        "    return novi_rjecnik\n",
        "\n",
        "\n",
        "rjecnik = {\"ime\": \"Ivan\", \"prezime\": \"Ivić\", \"dob\": 25}\n",
        "print(obrni_rjecnik(rjecnik))\n"
      ],
      "metadata": {
        "colab": {
          "base_uri": "https://localhost:8080/"
        },
        "id": "Du8uDyQIuyhT",
        "outputId": "8824922c-fc81-4819-f07e-e0a13a11d81c"
      },
      "execution_count": 62,
      "outputs": [
        {
          "output_type": "stream",
          "name": "stdout",
          "text": [
            "{'Ivan': 'ime', 'Ivić': 'prezime', 25: 'dob'}\n"
          ]
        }
      ]
    },
    {
      "cell_type": "code",
      "source": [
        "def maks_i_min(lista):\n",
        "    minimum = lista[0]\n",
        "    maksimum = lista[0]\n",
        "\n",
        "    for broj in lista[1:]:\n",
        "        if broj < minimum:\n",
        "            minimum = broj\n",
        "        elif broj > maksimum:\n",
        "            maksimum = broj\n",
        "\n",
        "    return (maksimum, minimum)\n",
        "\n",
        "\n",
        "lista = [5, 10, 20, 50, 100, 11, 250, 50, 80]\n",
        "print(maks_i_min(lista))  # (250, 5)\n"
      ],
      "metadata": {
        "colab": {
          "base_uri": "https://localhost:8080/"
        },
        "id": "fIBe-5jvvEfA",
        "outputId": "09212374-da5d-4b2c-c876-07d527a79769"
      },
      "execution_count": 63,
      "outputs": [
        {
          "output_type": "stream",
          "name": "stdout",
          "text": [
            "(250, 5)\n"
          ]
        }
      ]
    },
    {
      "cell_type": "code",
      "source": [
        "def presjek(skup1, skup2):\n",
        "    rezultat = set()\n",
        "    for element in skup1:\n",
        "        if element in skup2:\n",
        "            rezultat.add(element)\n",
        "    return rezultat\n",
        "\n",
        "\n",
        "skup_1 = {1, 2, 3, 4, 5}\n",
        "skup_2 = {4, 5, 6, 7, 8}\n",
        "\n",
        "print(presjek(skup_1, skup_2))  # {4, 5}\n"
      ],
      "metadata": {
        "colab": {
          "base_uri": "https://localhost:8080/"
        },
        "id": "4UhwzU58v2AS",
        "outputId": "5a28bdea-5c56-4ffd-df8a-495923cc337c"
      },
      "execution_count": 64,
      "outputs": [
        {
          "output_type": "stream",
          "name": "stdout",
          "text": [
            "{4, 5}\n"
          ]
        }
      ]
    },
    {
      "cell_type": "code",
      "source": [
        "def primes_in_range(start, end):\n",
        "    if end < 2:\n",
        "        return []\n",
        "\n",
        "    # Korak 1: Pretpostavi da su svi brojevi prosti\n",
        "    prost = [True] * (end + 1)\n",
        "    prost[0] = prost[1] = False  # 0 i 1 nisu prosti\n",
        "\n",
        "    # Korak 2: Sito – eliminiramo višekratnike\n",
        "    for i in range(2, int(end ** 0.5) + 1):\n",
        "        if prost[i]:\n",
        "            for j in range(i * i, end + 1, i):\n",
        "                prost[j] = False\n",
        "\n",
        "    # Korak 3: Vraćamo sve koji su True u danom rasponu\n",
        "    return [i for i in range(start, end + 1) if prost[i]]\n",
        "\n",
        "\n",
        "# Primjer\n",
        "print(primes_in_range(1, 30))  # [2, 3, 5, 7, 11, 13, 17, 19, 23, 29]\n"
      ],
      "metadata": {
        "colab": {
          "base_uri": "https://localhost:8080/"
        },
        "id": "7ufdcaR6wGvv",
        "outputId": "f2952a5a-ab82-4325-fcd5-6aa174469f2a"
      },
      "execution_count": 65,
      "outputs": [
        {
          "output_type": "stream",
          "name": "stdout",
          "text": [
            "[2, 3, 5, 7, 11, 13, 17, 19, 23, 29]\n"
          ]
        }
      ]
    },
    {
      "cell_type": "code",
      "source": [
        "def count_vowels_consonants(tekst):\n",
        "    vowels = {'a', 'e', 'i', 'o', 'u'}\n",
        "    vowel_count = 0\n",
        "    consonant_count = 0\n",
        "\n",
        "    for char in tekst.lower():\n",
        "        if char.isalpha():\n",
        "            if char in vowels:\n",
        "                vowel_count += 1\n",
        "            else:\n",
        "                consonant_count += 1\n",
        "\n",
        "    return {'vowels': vowel_count, 'consonants': consonant_count}\n",
        "\n",
        "\n",
        "tekst = \"Python je programski jezik koji je jednostavan za učenje i korištenje. Python je vrlo popularan.\"\n",
        "print(count_vowels_consonants(tekst))\n"
      ],
      "metadata": {
        "colab": {
          "base_uri": "https://localhost:8080/"
        },
        "id": "OJaAwgWZwWf-",
        "outputId": "f6bc61e4-da66-4811-98ba-4f43c2af90c7"
      },
      "execution_count": 68,
      "outputs": [
        {
          "output_type": "stream",
          "name": "stdout",
          "text": [
            "{'vowels': 30, 'consonants': 50}\n"
          ]
        }
      ]
    }
  ],
  "metadata": {
    "colab": {
      "name": "Dobro došli u Colab",
      "provenance": []
    },
    "kernelspec": {
      "display_name": "Python 3",
      "name": "python3"
    }
  },
  "nbformat": 4,
  "nbformat_minor": 0
}